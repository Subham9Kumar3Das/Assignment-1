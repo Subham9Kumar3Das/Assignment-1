{
 "cells": [
  {
   "cell_type": "markdown",
   "id": "17f9375b-4cfc-4167-919c-a44764b540c9",
   "metadata": {
    "jp-MarkdownHeadingCollapsed": true,
    "tags": []
   },
   "source": [
    "# Q1. Create one variable containing following type of data:\n"
   ]
  },
  {
   "cell_type": "markdown",
   "id": "e1313856-c586-4ee1-a49b-dee965fc27cf",
   "metadata": {},
   "source": [
    "(i) String"
   ]
  },
  {
   "cell_type": "code",
   "execution_count": 1,
   "id": "c8397666-9ce5-4ac4-acb8-8c6e0b67a47f",
   "metadata": {},
   "outputs": [
    {
     "name": "stdout",
     "output_type": "stream",
     "text": [
      "<class 'str'>\n"
     ]
    }
   ],
   "source": [
    "s=\"Subham\"\n",
    "print(type(s))"
   ]
  },
  {
   "cell_type": "markdown",
   "id": "c4951f6b-5e4f-44c2-8ea0-cf0970809a5f",
   "metadata": {},
   "source": [
    "(ii) list"
   ]
  },
  {
   "cell_type": "code",
   "execution_count": 2,
   "id": "fdb3033b-70db-43ed-8fd8-bdf93a2b32c4",
   "metadata": {},
   "outputs": [
    {
     "name": "stdout",
     "output_type": "stream",
     "text": [
      "<class 'list'>\n"
     ]
    }
   ],
   "source": [
    "l=[4,5,6,['s','d'],8]\n",
    "print(type(l))"
   ]
  },
  {
   "cell_type": "markdown",
   "id": "9ee2a5aa-cce7-45fc-8690-adbac3cb55c2",
   "metadata": {},
   "source": [
    "(iii) Float"
   ]
  },
  {
   "cell_type": "code",
   "execution_count": 3,
   "id": "2b42345a-a82c-4711-8aa3-1540efc77c76",
   "metadata": {},
   "outputs": [
    {
     "name": "stdout",
     "output_type": "stream",
     "text": [
      "<class 'float'>\n"
     ]
    }
   ],
   "source": [
    "a=45.45\n",
    "print(type(a))"
   ]
  },
  {
   "cell_type": "markdown",
   "id": "7a05f384-6eb4-4d8e-9b24-7d1875c86fa4",
   "metadata": {
    "jp-MarkdownHeadingCollapsed": true,
    "tags": []
   },
   "source": [
    "# Q2. Given are some following variables containing data:\n",
    "(i) var1 = ‘ ‘\n",
    "(ii) var2 = ‘[ DS , ML , Python]’\n",
    "(iii) var3 = [ ‘DS’ , ’ML’ , ‘Python’ ]\n",
    "(iv) var4 = 1.\n",
    "# What will be the data type of the above given variable."
   ]
  },
  {
   "cell_type": "markdown",
   "id": "8b3247d8-26ae-412f-9aa7-befcf5b38943",
   "metadata": {},
   "source": [
    "(i)var1 = ‘ ‘"
   ]
  },
  {
   "cell_type": "code",
   "execution_count": 5,
   "id": "c11e9c9a-0ea4-4ffe-889d-34b825dd3e3f",
   "metadata": {},
   "outputs": [
    {
     "name": "stdout",
     "output_type": "stream",
     "text": [
      "<class 'str'>\n"
     ]
    }
   ],
   "source": [
    "var1 = ' '\n",
    "print(type(var1))"
   ]
  },
  {
   "cell_type": "markdown",
   "id": "d40bd052-5f28-44bd-9bb4-dab9661400d6",
   "metadata": {},
   "source": [
    "ans= String"
   ]
  },
  {
   "cell_type": "markdown",
   "id": "9dea562d-15ab-4f3f-84bd-f124811e214b",
   "metadata": {},
   "source": [
    "(ii) var2 = ‘[ DS , ML , Python]’"
   ]
  },
  {
   "cell_type": "code",
   "execution_count": 6,
   "id": "df91f1ec-f55f-4e18-83f6-be7f26719ce8",
   "metadata": {},
   "outputs": [
    {
     "name": "stdout",
     "output_type": "stream",
     "text": [
      "<class 'str'>\n"
     ]
    }
   ],
   "source": [
    "var2 = '[ DS , ML , Python]'\n",
    "print(type(var2))"
   ]
  },
  {
   "cell_type": "markdown",
   "id": "a9d4b383-98cc-4b16-a245-ec426a2c4b81",
   "metadata": {},
   "source": [
    "ans=String"
   ]
  },
  {
   "cell_type": "markdown",
   "id": "995bf093-7456-4317-8b15-5fa01586e65b",
   "metadata": {},
   "source": [
    "(iii) var3 = [ ‘DS’ , ’ML’ , ‘Python’ ]"
   ]
  },
  {
   "cell_type": "code",
   "execution_count": 8,
   "id": "4ae2d4d4-a6a9-4fd8-b462-9295e8a410cb",
   "metadata": {},
   "outputs": [
    {
     "name": "stdout",
     "output_type": "stream",
     "text": [
      "<class 'list'>\n"
     ]
    }
   ],
   "source": [
    "var3 = [ 'DS' , 'ML' , 'Python' ]\n",
    "print(type(var3))"
   ]
  },
  {
   "cell_type": "markdown",
   "id": "1267d7c2-d24d-4f31-8ef3-7545875c524f",
   "metadata": {},
   "source": [
    "ans= list"
   ]
  },
  {
   "cell_type": "markdown",
   "id": "aa295c66-cad2-4b47-8ad5-8e49e22cc335",
   "metadata": {
    "jp-MarkdownHeadingCollapsed": true,
    "tags": []
   },
   "source": [
    "# Q3. Explain the use of the following operators using an example:\n",
    "(i) /\n",
    "(ii) %\n",
    "(iii) //\n",
    "(iv) **"
   ]
  },
  {
   "cell_type": "markdown",
   "id": "5962e90c-d942-4918-96ff-6aba89a449cb",
   "metadata": {},
   "source": [
    "(i)/"
   ]
  },
  {
   "cell_type": "markdown",
   "id": "5298eb40-1f02-4814-a7b0-9393712dab35",
   "metadata": {},
   "source": [
    "Ans=Finds the quotient in float data type"
   ]
  },
  {
   "cell_type": "code",
   "execution_count": 13,
   "id": "b19b07ed-43e6-4670-841e-3323c52e0797",
   "metadata": {},
   "outputs": [
    {
     "name": "stdout",
     "output_type": "stream",
     "text": [
      "1.2\n"
     ]
    }
   ],
   "source": [
    "a=5\n",
    "b=6\n",
    "print(b/a)"
   ]
  },
  {
   "cell_type": "markdown",
   "id": "6bc38bc2-c81b-4f54-a194-ec9ca6a12a55",
   "metadata": {},
   "source": [
    "(ii)%"
   ]
  },
  {
   "cell_type": "markdown",
   "id": "6a88071f-5408-4c57-a346-48723d6acff9",
   "metadata": {},
   "source": [
    "Ans=It finds the remainder of a divison."
   ]
  },
  {
   "cell_type": "code",
   "execution_count": 12,
   "id": "b480e6a7-ce8d-44af-b2e7-b8a3e23ef95a",
   "metadata": {},
   "outputs": [
    {
     "name": "stdout",
     "output_type": "stream",
     "text": [
      "1\n"
     ]
    }
   ],
   "source": [
    "print(b%a)"
   ]
  },
  {
   "cell_type": "markdown",
   "id": "b7e70727-84ed-4a7d-9cc2-89336f0897d4",
   "metadata": {},
   "source": [
    "(iii)//"
   ]
  },
  {
   "cell_type": "markdown",
   "id": "0bdd2491-d168-42ca-8158-7c77d6bff0ac",
   "metadata": {},
   "source": [
    "Ans=It gives the quotient in integer data type by neglecting the float values."
   ]
  },
  {
   "cell_type": "code",
   "execution_count": 15,
   "id": "b7802ad8-511e-48d5-9c72-e69687e1a64e",
   "metadata": {},
   "outputs": [
    {
     "name": "stdout",
     "output_type": "stream",
     "text": [
      "1\n"
     ]
    }
   ],
   "source": [
    "print(b//a)"
   ]
  },
  {
   "cell_type": "markdown",
   "id": "af15fd19-7a5a-4b72-84f9-69a062bf6d83",
   "metadata": {},
   "source": [
    "(iv)**"
   ]
  },
  {
   "cell_type": "markdown",
   "id": "bdead9d3-930a-422f-acbe-1eb7e449d085",
   "metadata": {},
   "source": [
    "Ans=It gives the exponent values."
   ]
  },
  {
   "cell_type": "code",
   "execution_count": 16,
   "id": "43f71567-1534-4d67-9ceb-912256b7ef33",
   "metadata": {},
   "outputs": [
    {
     "name": "stdout",
     "output_type": "stream",
     "text": [
      "7776\n"
     ]
    }
   ],
   "source": [
    "print(b**a)"
   ]
  },
  {
   "cell_type": "markdown",
   "id": "113feabd-4405-40bc-ab6f-452ff7ff23c8",
   "metadata": {
    "jp-MarkdownHeadingCollapsed": true,
    "tags": []
   },
   "source": [
    "# Q4. Create a list of length 10 of your choice containing multiple types of data. Using for loop print the element and its data type."
   ]
  },
  {
   "cell_type": "code",
   "execution_count": 21,
   "id": "efbdee90-d32c-4329-ae0d-54b6ee4a14b1",
   "metadata": {},
   "outputs": [
    {
     "name": "stdout",
     "output_type": "stream",
     "text": [
      "The length of the list 'l' is 10\n",
      "2 <class 'int'>\n",
      "a <class 'str'>\n",
      "{8, 6, 7} <class 'set'>\n",
      "[6, 8, 9] <class 'list'>\n",
      "True <class 'bool'>\n",
      "False <class 'bool'>\n",
      "4.5 <class 'float'>\n",
      "Subham <class 'str'>\n",
      "90 <class 'int'>\n",
      "(3, 4, 5, 6) <class 'tuple'>\n"
     ]
    }
   ],
   "source": [
    "l=[2,'a',{6,7,8},[6,8,9],True,False,4.5,\"Subham\",90,(3,4,5,6)]\n",
    "print(f\"The length of the list 'l' is {len(l)}\")\n",
    "for i in l:\n",
    "    print(i,type(i))"
   ]
  },
  {
   "cell_type": "markdown",
   "id": "a60f0480-5d03-411a-af02-8ea57b2973b0",
   "metadata": {
    "tags": []
   },
   "source": [
    "# Q5. Using a while loop, verify if the number A is purely divisible by number B and if so then how many times it can be divisible."
   ]
  },
  {
   "cell_type": "code",
   "execution_count": 2,
   "id": "e6406814-69bc-4740-bdf9-47195bf681f8",
   "metadata": {},
   "outputs": [
    {
     "name": "stdin",
     "output_type": "stream",
     "text": [
      " 10\n",
      " 5\n"
     ]
    },
    {
     "name": "stdout",
     "output_type": "stream",
     "text": [
      "10is purely divisible by 5\n",
      "          The number of times it can be divisible is 1\n"
     ]
    }
   ],
   "source": [
    "A=input()\n",
    "B=input()\n",
    "c=int(A)\n",
    "d=int(B)\n",
    "e=0\n",
    "while(c%d==0):\n",
    "    e+=1\n",
    "    c=c//d\n",
    "    \n",
    "if(e>0):\n",
    "    print(f\"\"\"{int(A)}is purely divisible by {int(B)}\n",
    "          The number of times it can be divisible is {e}\"\"\")\n",
    "else:\n",
    "    print(f\"{int(A)} is not divisible by {int(B)}\")\n",
    "        \n",
    "    "
   ]
  },
  {
   "cell_type": "markdown",
   "id": "ea1e0333-10d4-4ef7-a404-8de47826fc85",
   "metadata": {
    "jp-MarkdownHeadingCollapsed": true,
    "tags": []
   },
   "source": [
    "# Q6. Create a list containing 25 int type data. Using for loop and if-else condition print if the element is divisible by 3 or not."
   ]
  },
  {
   "cell_type": "code",
   "execution_count": 37,
   "id": "cd4c4809-2008-4db9-8cc8-ccc0e9afe2fd",
   "metadata": {},
   "outputs": [
    {
     "name": "stdout",
     "output_type": "stream",
     "text": [
      "1\n",
      "1 is not divisible by 3\n",
      "2\n",
      "2 is not divisible by 3\n",
      "3\n",
      "3 is divisible by 3\n",
      "4\n",
      "4 is not divisible by 3\n",
      "5\n",
      "5 is not divisible by 3\n",
      "6\n",
      "6 is divisible by 3\n",
      "7\n",
      "7 is not divisible by 3\n",
      "8\n",
      "8 is not divisible by 3\n",
      "9\n",
      "9 is divisible by 3\n",
      "10\n",
      "10 is not divisible by 3\n",
      "11\n",
      "11 is not divisible by 3\n",
      "12\n",
      "12 is divisible by 3\n",
      "13\n",
      "13 is not divisible by 3\n",
      "14\n",
      "14 is not divisible by 3\n",
      "15\n",
      "15 is divisible by 3\n",
      "16\n",
      "16 is not divisible by 3\n",
      "17\n",
      "17 is not divisible by 3\n",
      "18\n",
      "18 is divisible by 3\n",
      "19\n",
      "19 is not divisible by 3\n",
      "20\n",
      "20 is not divisible by 3\n",
      "21\n",
      "21 is divisible by 3\n",
      "22\n",
      "22 is not divisible by 3\n",
      "23\n",
      "23 is not divisible by 3\n",
      "24\n",
      "24 is divisible by 3\n",
      "25\n",
      "25 is not divisible by 3\n",
      "[1, 2, 3, 4, 5, 6, 7, 8, 9, 10, 11, 12, 13, 14, 15, 16, 17, 18, 19, 20, 21, 22, 23, 24, 25]\n"
     ]
    }
   ],
   "source": [
    "c=0\n",
    "l=[i for i in range(1,26)]\n",
    "for j in l:\n",
    "    print(j)\n",
    "    if(l[j-1]%3==0):\n",
    "        print(f\"{l[j-1]} is divisible by 3\")\n",
    "    else:\n",
    "        print(f\"{l[j-1]} is not divisible by 3\")\n",
    "print(l)\n",
    "    \n"
   ]
  },
  {
   "cell_type": "markdown",
   "id": "58231a9a-0091-4ec2-a2bb-70460f1c2f9b",
   "metadata": {
    "jp-MarkdownHeadingCollapsed": true,
    "tags": []
   },
   "source": [
    "# Q7. What do you understand about mutable and immutable data types? Give examples for both showing this property."
   ]
  },
  {
   "cell_type": "markdown",
   "id": "924fcfcf-9f71-48c6-bba6-8552a7f408a5",
   "metadata": {},
   "source": [
    "Ans=Mutable data type means we can change the value corresponding to index number .eg:->"
   ]
  },
  {
   "cell_type": "code",
   "execution_count": 38,
   "id": "7b6d04f9-74ec-419a-9c60-f66fe2bcfbb0",
   "metadata": {},
   "outputs": [
    {
     "data": {
      "text/plain": [
       "[1, 'Subham', 3]"
      ]
     },
     "execution_count": 38,
     "metadata": {},
     "output_type": "execute_result"
    }
   ],
   "source": [
    "l=[1,2,3]\n",
    "l[1]='Subham'\n",
    "l"
   ]
  },
  {
   "cell_type": "markdown",
   "id": "af3483b4-fa59-4443-90f2-249cec2d8f87",
   "metadata": {},
   "source": [
    "Value of list at index 2 changed to string which shows we can change value from any index of a list data type which tells it is mutable."
   ]
  },
  {
   "cell_type": "markdown",
   "id": "f03bb79f-c7c1-452b-b879-07600456df4b",
   "metadata": {},
   "source": [
    "Ans=Non Mutable data type means we can not change the value corresponding to index number .eg:->"
   ]
  },
  {
   "cell_type": "code",
   "execution_count": 39,
   "id": "8f25e734-662e-4f30-8f71-bd373bed0a28",
   "metadata": {},
   "outputs": [
    {
     "ename": "TypeError",
     "evalue": "'str' object does not support item assignment",
     "output_type": "error",
     "traceback": [
      "\u001b[0;31m---------------------------------------------------------------------------\u001b[0m",
      "\u001b[0;31mTypeError\u001b[0m                                 Traceback (most recent call last)",
      "Cell \u001b[0;32mIn[39], line 2\u001b[0m\n\u001b[1;32m      1\u001b[0m s\u001b[38;5;241m=\u001b[39m\u001b[38;5;124m'\u001b[39m\u001b[38;5;124mSubham Kumar Das\u001b[39m\u001b[38;5;124m'\u001b[39m\n\u001b[0;32m----> 2\u001b[0m \u001b[43ms\u001b[49m\u001b[43m[\u001b[49m\u001b[38;5;241;43m1\u001b[39;49m\u001b[43m]\u001b[49m\u001b[38;5;241m=\u001b[39m\u001b[38;5;124m'\u001b[39m\u001b[38;5;124mSamresh\u001b[39m\u001b[38;5;124m'\u001b[39m\n\u001b[1;32m      3\u001b[0m s\n",
      "\u001b[0;31mTypeError\u001b[0m: 'str' object does not support item assignment"
     ]
    }
   ],
   "source": [
    "s='Subham Kumar Das'\n",
    "s[1]='Samresh'\n",
    "s"
   ]
  },
  {
   "cell_type": "markdown",
   "id": "4e45ab1d-0da0-4948-9eb9-ab0c45f366ec",
   "metadata": {},
   "source": [
    "And here it comes the error showing string object doesnot support item assignment which means it can not change value of any index which shows it is immutable."
   ]
  },
  {
   "cell_type": "code",
   "execution_count": null,
   "id": "506e4364-acbe-4c31-a5ef-7f1b3f30adbf",
   "metadata": {},
   "outputs": [],
   "source": []
  }
 ],
 "metadata": {
  "kernelspec": {
   "display_name": "Python 3 (ipykernel)",
   "language": "python",
   "name": "python3"
  },
  "language_info": {
   "codemirror_mode": {
    "name": "ipython",
    "version": 3
   },
   "file_extension": ".py",
   "mimetype": "text/x-python",
   "name": "python",
   "nbconvert_exporter": "python",
   "pygments_lexer": "ipython3",
   "version": "3.10.8"
  }
 },
 "nbformat": 4,
 "nbformat_minor": 5
}
